{
 "cells": [
  {
   "cell_type": "code",
   "execution_count": 1,
   "metadata": {},
   "outputs": [],
   "source": [
    "import pandas as pd\n",
    "import numpy as np"
   ]
  },
  {
   "cell_type": "code",
   "execution_count": 2,
   "metadata": {},
   "outputs": [
    {
     "data": {
      "text/plain": [
       "'/home/ansonhon/ML Lab'"
      ]
     },
     "execution_count": 2,
     "metadata": {},
     "output_type": "execute_result"
    }
   ],
   "source": [
    "%pwd"
   ]
  },
  {
   "cell_type": "code",
   "execution_count": 7,
   "metadata": {},
   "outputs": [
    {
     "name": "stdout",
     "output_type": "stream",
     "text": [
      "signature_anson_vae/True_1.csv\n",
      "signature_anson_vae/True_2.csv\n",
      "signature_anson_vae/True_3.csv\n",
      "signature_anson_vae/True_4.csv\n",
      "signature_anson_vae/True_5.csv\n",
      "signature_anson_vae/True_6.csv\n",
      "signature_anson_vae/True_7.csv\n",
      "signature_anson_vae/True_8.csv\n",
      "signature_anson_vae/True_9.csv\n",
      "signature_anson_vae/True_10.csv\n",
      "signature_anson_vae/True_11.csv\n",
      "signature_anson_vae/True_12.csv\n",
      "signature_anson_vae/True_13.csv\n",
      "signature_anson_vae/True_14.csv\n",
      "signature_anson_vae/True_15.csv\n",
      "signature_anson_vae/True_16.csv\n",
      "signature_anson_vae/True_17.csv\n",
      "signature_anson_vae/True_18.csv\n",
      "signature_anson_vae/True_19.csv\n",
      "signature_anson_vae/True_20.csv\n",
      "signature_anson_vae/True_21.csv\n",
      "signature_anson_vae/True_22.csv\n",
      "signature_anson_vae/True_23.csv\n",
      "signature_anson_vae/True_24.csv\n",
      "signature_anson_vae/True_25.csv\n",
      "signature_anson_vae/True_26.csv\n",
      "signature_anson_vae/True_27.csv\n",
      "signature_anson_vae/True_28.csv\n",
      "signature_anson_vae/True_29.csv\n",
      "signature_anson_vae/True_30.csv\n",
      "signature_anson_vae/True_31.csv\n",
      "signature_anson_vae/True_32.csv\n",
      "signature_anson_vae/True_33.csv\n",
      "signature_anson_vae/True_34.csv\n",
      "signature_anson_vae/True_35.csv\n",
      "signature_anson_vae/True_36.csv\n",
      "signature_anson_vae/True_37.csv\n",
      "signature_anson_vae/True_38.csv\n",
      "signature_anson_vae/True_39.csv\n",
      "signature_anson_vae/True_40.csv\n",
      "signature_anson_vae/True_41.csv\n",
      "signature_anson_vae/True_42.csv\n",
      "signature_anson_vae/True_43.csv\n",
      "signature_anson_vae/True_44.csv\n",
      "signature_anson_vae/True_45.csv\n",
      "signature_anson_vae/True_46.csv\n",
      "signature_anson_vae/True_47.csv\n",
      "signature_anson_vae/True_48.csv\n",
      "signature_anson_vae/True_49.csv\n",
      "signature_anson_vae/True_50.csv\n"
     ]
    }
   ],
   "source": [
    "for i in range(1,51):\n",
    "    idx = i\n",
    "    torf = 'True'  \n",
    "    # torf = 'True'\n",
    "    path = r'signature_anson_vae/' + torf + '_' + str(idx) + '.csv'\n",
    "    print(path)\n",
    "    df = pd.read_csv(path)\n",
    "    array = df.to_numpy()\n",
    "    array = array[:,1:]\n",
    "    name = torf + str(i)\n",
    "    np.save(name,array)\n"
   ]
  }
 ],
 "metadata": {
  "kernelspec": {
   "display_name": "base",
   "language": "python",
   "name": "python3"
  },
  "language_info": {
   "codemirror_mode": {
    "name": "ipython",
    "version": 3
   },
   "file_extension": ".py",
   "mimetype": "text/x-python",
   "name": "python",
   "nbconvert_exporter": "python",
   "pygments_lexer": "ipython3",
   "version": "3.12.1"
  }
 },
 "nbformat": 4,
 "nbformat_minor": 2
}
