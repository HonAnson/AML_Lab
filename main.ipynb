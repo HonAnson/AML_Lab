{
 "cells": [
  {
   "cell_type": "code",
   "execution_count": 165,
   "metadata": {},
   "outputs": [],
   "source": [
    "import torch\n",
    "import numpy as np\n",
    "import matplotlib.pyplot as plt\n",
    "import math\n",
    "from torch import nn\n",
    "import torch\n",
    "from torch.utils.data import DataLoader, TensorDataset\n",
    "from sklearn.model_selection import train_test_split\n",
    "from einops import rearrange\n",
    "from torch.optim import Adam\n",
    "import torch.nn.functional as F"
   ]
  },
  {
   "cell_type": "code",
   "execution_count": 166,
   "metadata": {},
   "outputs": [],
   "source": [
    "### Prepare path of image\n",
    "person = 'anson'\n",
    "path_list = []\n",
    "label_list = []\n",
    "for i in range(10):\n",
    "    i += 1\n",
    "    s = r'Data/signature_'+person + r'_numpy/False' + str(i) + r'.npy'\n",
    "    s2 = r'Data/signature_' + person + r'_numpy/True' + str(i) + r'.npy'\n",
    "    path_list.append(s)\n",
    "    path_list.append(s2)\n",
    "    label_list.append(False)\n",
    "    label_list.append(True)\n",
    "label_list = np.array(label_list)"
   ]
  },
  {
   "cell_type": "code",
   "execution_count": 167,
   "metadata": {},
   "outputs": [],
   "source": [
    "### Load data\n",
    "data_list = []\n",
    "\n",
    "for s in path_list:\n",
    "    data = np.load(s, allow_pickle=True)\n",
    "    pressure = data[:,2]\n",
    "    # find out last non-zero pressure data\n",
    "    idx = 0\n",
    "    for i, p in enumerate(pressure):\n",
    "        if p != 0:\n",
    "            idx = i\n",
    "    \n",
    "    # Then pick data fron t=0 to that time point\n",
    "    data = data[0:idx+1,:]\n",
    "    # data_list = data_list[: data]\n",
    "    data_list.append(data)\n",
    "    \n",
    "data_set = data_list\n",
    "# data_set = np.array(data_list)\n",
    "# data_list"
   ]
  },
  {
   "cell_type": "code",
   "execution_count": 168,
   "metadata": {},
   "outputs": [],
   "source": [
    "### Draw data on 2D canvas\n",
    "data_set_image = []\n",
    "for i in range(len(data_set)):\n",
    "    data = data_set[i]\n",
    "    canvas = np.zeros((240,320))\n",
    "    x_coords = data[:,0]\n",
    "    y_coords = data[:,1]\n",
    "    pressure = data[:,2]\n",
    "\n",
    "    for i, p in enumerate(pressure):\n",
    "        x = x_coords[i]\n",
    "        y = y_coords[i]\n",
    "        if p != 0:\n",
    "            canvas[240-x,y] = p\n",
    "    data_set_image.append(canvas)\n",
    "\n",
    "data_set_image = np.array(data_set_image)"
   ]
  },
  {
   "cell_type": "code",
   "execution_count": 202,
   "metadata": {},
   "outputs": [
    {
     "data": {
      "image/png": "[encoded data removed]",
      "text/plain": [
       "<Figure size 800x600 with 2 Axes>"
      ]
     },
     "metadata": {},
     "output_type": "display_data"
    }
   ],
   "source": [
    "# Generating a 2D NumPy array with random values\n",
    "# data = np.random.rand(10, 10)\n",
    "data = data_set_image[2]\n",
    "# Plotting the 2D array as a heatmap\n",
    "plt.figure(figsize=(8, 6))\n",
    "plt.imshow(data, cmap='viridis', interpolation='nearest')\n",
    "plt.colorbar()\n",
    "plt.title('2D Array Heatmap')\n",
    "plt.show()"
   ]
  },
  {
   "cell_type": "code",
   "execution_count": 203,
   "metadata": {},
   "outputs": [],
   "source": [
    "# Convert data to PyTorch tensors and change shape to [N, C, W, H]\n",
    "data = torch.tensor(data_set_image).float()  # PyTorch expects channel-first format\n",
    "rearrange(data, 'n b h -> n 1 b h')\n",
    "labels = torch.tensor(label_list).long()\n",
    "\n",
    "# # Split data into training and validation sets\n",
    "data_train, data_val, labels_train, labels_val = train_test_split(data, labels, test_size=0.2, random_state=42)\n",
    "\n",
    "# # Create PyTorch datasets and dataloaders\n",
    "train_dataset = TensorDataset(data_train, labels_train)\n",
    "val_dataset = TensorDataset(data_val, labels_val)\n",
    "\n",
    "train_loader = DataLoader(train_dataset, batch_size=32, shuffle=True)\n",
    "val_loader = DataLoader(val_dataset, batch_size=32, shuffle=False)"
   ]
  },
  {
   "cell_type": "code",
   "execution_count": 204,
   "metadata": {},
   "outputs": [
    {
     "data": {
      "text/plain": [
       "tensor([0, 1, 0, 1, 0, 1, 0, 1, 0, 1, 0, 1, 0, 1, 0, 1, 0, 1, 0, 1])"
      ]
     },
     "execution_count": 204,
     "metadata": {},
     "output_type": "execute_result"
    }
   ],
   "source": []
  },
  {
   "cell_type": "code",
   "execution_count": 205,
   "metadata": {},
   "outputs": [],
   "source": [
    "class SimpleCNN(nn.Module):\n",
    "    def __init__(self):\n",
    "        super(SimpleCNN, self).__init__()\n",
    "        self.layer1 = nn.MaxPool2d(kernel_size=2,stride = 2) #nn.Conv2d(3, 32, kernel_size=3, padding=1)  # Assuming input channels = 3\n",
    "        self.layer2 = nn.ReLU(nn.Conv2d(1,3, kernel_size=3, stride = 1, padding = None))\n",
    "        self.layer3 = nn.MaxPool2d(kernel_size=2, stride=2)\n",
    "        self.layer4 = nn.ReLU(nn.Conv2d(3,6, kernel_size=3, stride = 1, padding = None))  # Adjust input size based on your data\n",
    "        self.layer5 = nn.MaxPool2d(kernel_size=2, stride=2)\n",
    "        self.layer6 = nn.Flatten()\n",
    "        self.layer7 = nn.Linear(1200, 2)  # Assuming 10 output classes\n",
    "        # self.layer8 = nn.Sigmoid()\n",
    "        \n",
    "\n",
    "    def forward(self, x):\n",
    "        x = self.layer1(x)\n",
    "        x = self.layer2(x)\n",
    "        x = self.layer3(x)\n",
    "        x = self.layer4(x)\n",
    "        x = self.layer5(x)\n",
    "        x = self.layer6(x)\n",
    "        x = self.layer7(x)\n",
    "        # x = self.layer8(x)\n",
    "        return x"
   ]
  },
  {
   "cell_type": "code",
   "execution_count": 206,
   "metadata": {},
   "outputs": [],
   "source": [
    "# Model, Loss, and Optimizer\n",
    "model = SimpleCNN()\n",
    "criterion = nn.CrossEntropyLoss()\n",
    "optimizer = Adam(model.parameters(), lr=0.001)"
   ]
  },
  {
   "cell_type": "code",
   "execution_count": 209,
   "metadata": {},
   "outputs": [
    {
     "name": "stdout",
     "output_type": "stream",
     "text": [
      "Epoch [1/10], Loss: 0.0000\n",
      "Epoch [2/10], Loss: 0.0000\n",
      "Epoch [3/10], Loss: 0.0000\n",
      "Epoch [4/10], Loss: 0.0000\n",
      "Epoch [5/10], Loss: 0.0000\n",
      "Epoch [6/10], Loss: 0.0000\n",
      "Epoch [7/10], Loss: 0.0000\n",
      "Epoch [8/10], Loss: 0.0000\n",
      "Epoch [9/10], Loss: 0.0000\n",
      "Epoch [10/10], Loss: 0.0000\n"
     ]
    }
   ],
   "source": [
    "# Training Loop\n",
    "num_epochs = 10  # Example epoch count\n",
    "for epoch in range(num_epochs):\n",
    "    for inputs, labels in train_loader:\n",
    "        # Forward pass\n",
    "        outputs = model(inputs)\n",
    "        # print(outputs)\n",
    "        loss = criterion(outputs, labels)\n",
    "        \n",
    "        # Backward and optimize\n",
    "        optimizer.zero_grad()\n",
    "        loss.backward()\n",
    "        optimizer.step()\n",
    "    \n",
    "    print(f'Epoch [{epoch+1}/{num_epochs}], Loss: {loss.item():.4f}')"
   ]
  },
  {
   "cell_type": "code",
   "execution_count": 57,
   "metadata": {},
   "outputs": [
    {
     "data": {
      "text/plain": [
       "array([[ 0.43400616, -0.9009099 ],\n",
       "       [ 0.9009099 ,  0.43400616]])"
      ]
     },
     "execution_count": 57,
     "metadata": {},
     "output_type": "execute_result"
    }
   ],
   "source": [
    "theta = 90 - math.degrees(math.atan(test[2]/test[1]))\n",
    "theta = math.radians(theta)\n",
    "\n",
    "cos_t = math.cos(theta)\n",
    "sin_t = math.sin(theta)\n",
    "rotation_mat = np.array([[cos_t, -sin_t],[sin_t, cos_t]])\n",
    "rotation_mat"
   ]
  },
  {
   "cell_type": "code",
   "execution_count": null,
   "metadata": {},
   "outputs": [],
   "source": [
    "# dummy_input = torch.randn(1, 1, 240, 320)\n",
    "for i in range(19):\n",
    "\n",
    "    print(\"Ground truth: \", label_list[i])\n",
    "    input = torch.tensor(data_set_image[i], dtype=torch.float32)\n",
    "    # input = torch.randn(240,320)\n",
    "    # plt.figure(figsize=(8, 6))\n",
    "    # plt.imshow(input, cmap='viridis', interpolation='nearest')\n",
    "    # plt.colorbar()\n",
    "    # plt.title('2D Array Heatmap')\n",
    "    # plt.show()\n",
    "    input = input.unsqueeze(0)\n",
    "    input = input.unsqueeze(0)\n",
    "\n",
    "    with torch.no_grad():\n",
    "        output = model(input)\n",
    "\n",
    "    probability = F.softmax(output, dim =1)\n",
    "    probability\n",
    "    print(probability)"
   ]
  }
 ],
 "metadata": {
  "kernelspec": {
   "display_name": "deeplearning",
   "language": "python",
   "name": "python3"
  },
  "language_info": {
   "codemirror_mode": {
    "name": "ipython",
    "version": 3
   },
   "file_extension": ".py",
   "mimetype": "text/x-python",
   "name": "python",
   "nbconvert_exporter": "python",
   "pygments_lexer": "ipython3",
   "version": "3.12.1"
  }
 },
 "nbformat": 4,
 "nbformat_minor": 2
}
